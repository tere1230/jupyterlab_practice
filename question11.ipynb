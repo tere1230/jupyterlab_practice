{
 "cells": [
  {
   "cell_type": "markdown",
   "id": "059bcac9-3d24-4f4a-9013-cba62a4f0c7d",
   "metadata": {},
   "source": [
    "# Teresa Chou\n",
    "Notebook for assignment 7"
   ]
  },
  {
   "cell_type": "code",
   "execution_count": 1,
   "id": "7d7c73c6-bf55-4c7b-9121-48e235ce7975",
   "metadata": {
    "tags": []
   },
   "outputs": [
    {
     "data": {
      "text/plain": [
       "5.0"
      ]
     },
     "execution_count": 1,
     "metadata": {},
     "output_type": "execute_result"
    }
   ],
   "source": [
    "def compute_mean(values):\n",
    "    if len(values) == 0:\n",
    "        return None\n",
    "    else:\n",
    "        return sum(values) / len(values)\n",
    "    \n",
    "compute_mean([2, 4, 6, 8])"
   ]
  },
  {
   "cell_type": "markdown",
   "id": "4632b0e8-d173-4985-a12d-a24de272386d",
   "metadata": {},
   "source": [
    "The function above calculates the mean of a list of values.\n",
    "\n",
    "$$\n",
    "\\bar{x} = \\frac{1}{n} \\sum_{i=1}^{n} x_i\n",
    "$$\n",
    "\n",
    "$$\n",
    "\\bar{x} = \\frac{\\sum_{i=1}^{n} x_i}{n}\n",
    "$$"
   ]
  },
  {
   "cell_type": "code",
   "execution_count": null,
   "id": "6236905f-300f-4509-98c0-dc7b84fe48b9",
   "metadata": {},
   "outputs": [],
   "source": []
  }
 ],
 "metadata": {
  "kernelspec": {
   "display_name": "Python (jupyterlab practice)",
   "language": "python",
   "name": "practice_env"
  },
  "language_info": {
   "codemirror_mode": {
    "name": "ipython",
    "version": 3
   },
   "file_extension": ".py",
   "mimetype": "text/x-python",
   "name": "python",
   "nbconvert_exporter": "python",
   "pygments_lexer": "ipython3",
   "version": "3.11.4"
  }
 },
 "nbformat": 4,
 "nbformat_minor": 5
}
